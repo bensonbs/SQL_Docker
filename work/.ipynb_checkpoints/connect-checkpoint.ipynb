{
 "cells": [
  {
   "cell_type": "code",
   "execution_count": 1,
   "id": "26fc9fcd-a43e-4aee-8acb-9e11c9fb47da",
   "metadata": {},
   "outputs": [
    {
     "name": "stdout",
     "output_type": "stream",
     "text": [
      "master\n",
      "tempdb\n",
      "model\n",
      "msdb\n"
     ]
    }
   ],
   "source": [
    "import pyodbc\n",
    "\n",
    "# Define connection string parameters\n",
    "server = 'sql_server,1433'  # Change to your Docker host IP if needed, 1433 is the default SQL Server port\n",
    "username = 'sa'\n",
    "password = 'Aa123456'  # your actual password\n",
    "driver = '{ODBC Driver 18 for SQL Server}'\n",
    "\n",
    "# Establish the connection (without specifying a database)\n",
    "connection_string = f\"DRIVER={driver};SERVER={server};UID={username};PWD={password};TrustServerCertificate=yes\"\n",
    "\n",
    "conn = pyodbc.connect(connection_string)\n",
    "\n",
    "# Fetch database names\n",
    "cursor = conn.cursor()\n",
    "cursor.execute(\"SELECT name FROM sys.databases\")\n",
    "rows = cursor.fetchall()\n",
    "\n",
    "# Print database names\n",
    "for row in rows:\n",
    "    print(row.name)\n",
    "\n",
    "# Close the connection\n",
    "conn.close()\n"
   ]
  },
  {
   "cell_type": "code",
   "execution_count": 1,
   "id": "8d0409b4-4876-4449-b617-c61d3d04e078",
   "metadata": {},
   "outputs": [],
   "source": [
    "from SQL import SQL\n",
    "sql = SQL(server = 'sql_server,1433',\n",
    "            database = \"master\",\n",
    "            username = \"sa\",\n",
    "            password = \"Aa123456\")\n"
   ]
  },
  {
   "cell_type": "code",
   "execution_count": 4,
   "id": "4a9273e3-8dee-4498-83a1-18abaecd5a23",
   "metadata": {},
   "outputs": [],
   "source": [
    "data = sql.get_data(datatabel = \"students\",\n",
    "                    StartDate = \"2022-07-20\",\n",
    "                    ReturnFormat = \"DataFrame\")"
   ]
  },
  {
   "cell_type": "code",
   "execution_count": 5,
   "id": "c887b0ea-d245-4c07-97ad-fa011bdc7715",
   "metadata": {},
   "outputs": [
    {
     "data": {
      "text/html": [
       "<div>\n",
       "<style scoped>\n",
       "    .dataframe tbody tr th:only-of-type {\n",
       "        vertical-align: middle;\n",
       "    }\n",
       "\n",
       "    .dataframe tbody tr th {\n",
       "        vertical-align: top;\n",
       "    }\n",
       "\n",
       "    .dataframe thead th {\n",
       "        text-align: right;\n",
       "    }\n",
       "</style>\n",
       "<table border=\"1\" class=\"dataframe\">\n",
       "  <thead>\n",
       "    <tr style=\"text-align: right;\">\n",
       "      <th></th>\n",
       "      <th>id</th>\n",
       "      <th>name</th>\n",
       "      <th>age</th>\n",
       "      <th>entry_timestamp</th>\n",
       "    </tr>\n",
       "  </thead>\n",
       "  <tbody>\n",
       "    <tr>\n",
       "      <th>0</th>\n",
       "      <td>2</td>\n",
       "      <td>??</td>\n",
       "      <td>25</td>\n",
       "      <td>2023-09-11 06:49:12</td>\n",
       "    </tr>\n",
       "  </tbody>\n",
       "</table>\n",
       "</div>"
      ],
      "text/plain": [
       "  id name age      entry_timestamp\n",
       "0  2   ??  25  2023-09-11 06:49:12"
      ]
     },
     "execution_count": 5,
     "metadata": {},
     "output_type": "execute_result"
    }
   ],
   "source": [
    "data"
   ]
  },
  {
   "cell_type": "code",
   "execution_count": null,
   "id": "240e3390-51fd-407b-81f7-206315bc2bf8",
   "metadata": {},
   "outputs": [],
   "source": []
  }
 ],
 "metadata": {
  "kernelspec": {
   "display_name": "Python 3 (ipykernel)",
   "language": "python",
   "name": "python3"
  },
  "language_info": {
   "codemirror_mode": {
    "name": "ipython",
    "version": 3
   },
   "file_extension": ".py",
   "mimetype": "text/x-python",
   "name": "python",
   "nbconvert_exporter": "python",
   "pygments_lexer": "ipython3",
   "version": "3.10.8"
  }
 },
 "nbformat": 4,
 "nbformat_minor": 5
}
